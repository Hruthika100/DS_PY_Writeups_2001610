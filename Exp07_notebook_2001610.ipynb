{
  "nbformat": 4,
  "nbformat_minor": 0,
  "metadata": {
    "colab": {
      "provenance": [],
      "authorship_tag": "ABX9TyPlWWJWY1vyLfDnDaeq7kJM",
      "include_colab_link": true
    },
    "kernelspec": {
      "name": "python3",
      "display_name": "Python 3"
    },
    "language_info": {
      "name": "python"
    }
  },
  "cells": [
    {
      "cell_type": "markdown",
      "metadata": {
        "id": "view-in-github",
        "colab_type": "text"
      },
      "source": [
        "<a href=\"https://colab.research.google.com/github/Hruthika100/DS_PY_Writeups_2001610/blob/main/Exp07_notebook_2001610.ipynb\" target=\"_parent\"><img src=\"https://colab.research.google.com/assets/colab-badge.svg\" alt=\"Open In Colab\"/></a>"
      ]
    },
    {
      "cell_type": "markdown",
      "source": [
        "# **EXPERIMENT NO. 07**"
      ],
      "metadata": {
        "id": "I-ME98GXVb-D"
      }
    },
    {
      "cell_type": "markdown",
      "source": [
        "My serial number in attendance list is** x = 10 **and I choose dataset index **y = 290**  as this data se index follows the relation : y % x == 0 (290 % 10 == 0)   \n",
        "\n",
        "From the collection of 324 standard datasets from UCI I choose the dataset ⬇ \n",
        "\n",
        "**290. Travel Reviews: Reviews on destinations in 10 categories mentioned across East Asia. Each traveler rating is mapped as Excellent(4), Very Good(3), Average(2), Poor(1), and Terrible(0) and average rating is used.**"
      ],
      "metadata": {
        "id": "hEKwd3yAVc3g"
      }
    },
    {
      "cell_type": "markdown",
      "source": [
        "# **QUESTION AND ANSWERS**"
      ],
      "metadata": {
        "id": "8hNWRFDHV2wO"
      }
    },
    {
      "cell_type": "markdown",
      "source": [
        "**a. Check Descriptive Statistics**"
      ],
      "metadata": {
        "id": "7jMN20DiWI-w"
      }
    },
    {
      "cell_type": "code",
      "source": [
        "import pandas as pd\n",
        "review = pd.read_csv(\"https://raw.githubusercontent.com/Hruthika100/DS_PY_Writeups_2001610/main/tripadvisor_review.csv\")\n",
        "review"
      ],
      "metadata": {
        "colab": {
          "base_uri": "https://localhost:8080/",
          "height": 424
        },
        "id": "BLMnJw5WV9Ka",
        "outputId": "dc9f71a0-ca04-474e-ef26-7b82f7a34041"
      },
      "execution_count": 3,
      "outputs": [
        {
          "output_type": "execute_result",
          "data": {
            "text/plain": [
              "      User ID  Art Galleries  Dance Clubs  Juice Bars  Restaurants  Museums  \\\n",
              "0      User 1           0.93         1.80        2.29         0.62     0.80   \n",
              "1      User 2           1.02         2.20        2.66         0.64     1.42   \n",
              "2      User 3           1.22         0.80        0.54         0.53     0.24   \n",
              "3      User 4           0.45         1.80        0.29         0.57     0.46   \n",
              "4      User 5           0.51         1.20        1.18         0.57     1.54   \n",
              "..        ...            ...          ...         ...          ...      ...   \n",
              "975  User 976           0.74         1.12        0.30         0.53     0.88   \n",
              "976  User 977           1.25         0.92        1.12         0.38     0.78   \n",
              "977  User 978           0.61         1.32        0.67         0.43     1.30   \n",
              "978  User 979           0.93         0.20        0.13         0.43     0.30   \n",
              "979  User 980           0.93         0.56        1.13         0.51     1.34   \n",
              "\n",
              "     Resorts  Picnic Spots  Beaches  Theaters  Religious Institution  \n",
              "0       2.42          3.19     2.79      1.82                   2.42  \n",
              "1       3.18          3.21     2.63      1.86                   2.32  \n",
              "2       1.54          3.18     2.80      1.31                   2.50  \n",
              "3       1.52          3.18     2.96      1.57                   2.86  \n",
              "4       2.02          3.18     2.78      1.18                   2.54  \n",
              "..       ...           ...      ...       ...                    ...  \n",
              "975     1.38          3.17     2.78      0.99                   3.20  \n",
              "976     1.68          3.18     2.79      1.34                   2.80  \n",
              "977     1.78          3.17     2.81      1.34                   3.02  \n",
              "978     0.40          3.18     2.98      1.12                   2.46  \n",
              "979     2.36          3.18     2.87      1.34                   2.40  \n",
              "\n",
              "[980 rows x 11 columns]"
            ],
            "text/html": [
              "\n",
              "  <div id=\"df-ec799777-7323-47a9-acde-cbb6020c6491\">\n",
              "    <div class=\"colab-df-container\">\n",
              "      <div>\n",
              "<style scoped>\n",
              "    .dataframe tbody tr th:only-of-type {\n",
              "        vertical-align: middle;\n",
              "    }\n",
              "\n",
              "    .dataframe tbody tr th {\n",
              "        vertical-align: top;\n",
              "    }\n",
              "\n",
              "    .dataframe thead th {\n",
              "        text-align: right;\n",
              "    }\n",
              "</style>\n",
              "<table border=\"1\" class=\"dataframe\">\n",
              "  <thead>\n",
              "    <tr style=\"text-align: right;\">\n",
              "      <th></th>\n",
              "      <th>User ID</th>\n",
              "      <th>Art Galleries</th>\n",
              "      <th>Dance Clubs</th>\n",
              "      <th>Juice Bars</th>\n",
              "      <th>Restaurants</th>\n",
              "      <th>Museums</th>\n",
              "      <th>Resorts</th>\n",
              "      <th>Picnic Spots</th>\n",
              "      <th>Beaches</th>\n",
              "      <th>Theaters</th>\n",
              "      <th>Religious Institution</th>\n",
              "    </tr>\n",
              "  </thead>\n",
              "  <tbody>\n",
              "    <tr>\n",
              "      <th>0</th>\n",
              "      <td>User 1</td>\n",
              "      <td>0.93</td>\n",
              "      <td>1.80</td>\n",
              "      <td>2.29</td>\n",
              "      <td>0.62</td>\n",
              "      <td>0.80</td>\n",
              "      <td>2.42</td>\n",
              "      <td>3.19</td>\n",
              "      <td>2.79</td>\n",
              "      <td>1.82</td>\n",
              "      <td>2.42</td>\n",
              "    </tr>\n",
              "    <tr>\n",
              "      <th>1</th>\n",
              "      <td>User 2</td>\n",
              "      <td>1.02</td>\n",
              "      <td>2.20</td>\n",
              "      <td>2.66</td>\n",
              "      <td>0.64</td>\n",
              "      <td>1.42</td>\n",
              "      <td>3.18</td>\n",
              "      <td>3.21</td>\n",
              "      <td>2.63</td>\n",
              "      <td>1.86</td>\n",
              "      <td>2.32</td>\n",
              "    </tr>\n",
              "    <tr>\n",
              "      <th>2</th>\n",
              "      <td>User 3</td>\n",
              "      <td>1.22</td>\n",
              "      <td>0.80</td>\n",
              "      <td>0.54</td>\n",
              "      <td>0.53</td>\n",
              "      <td>0.24</td>\n",
              "      <td>1.54</td>\n",
              "      <td>3.18</td>\n",
              "      <td>2.80</td>\n",
              "      <td>1.31</td>\n",
              "      <td>2.50</td>\n",
              "    </tr>\n",
              "    <tr>\n",
              "      <th>3</th>\n",
              "      <td>User 4</td>\n",
              "      <td>0.45</td>\n",
              "      <td>1.80</td>\n",
              "      <td>0.29</td>\n",
              "      <td>0.57</td>\n",
              "      <td>0.46</td>\n",
              "      <td>1.52</td>\n",
              "      <td>3.18</td>\n",
              "      <td>2.96</td>\n",
              "      <td>1.57</td>\n",
              "      <td>2.86</td>\n",
              "    </tr>\n",
              "    <tr>\n",
              "      <th>4</th>\n",
              "      <td>User 5</td>\n",
              "      <td>0.51</td>\n",
              "      <td>1.20</td>\n",
              "      <td>1.18</td>\n",
              "      <td>0.57</td>\n",
              "      <td>1.54</td>\n",
              "      <td>2.02</td>\n",
              "      <td>3.18</td>\n",
              "      <td>2.78</td>\n",
              "      <td>1.18</td>\n",
              "      <td>2.54</td>\n",
              "    </tr>\n",
              "    <tr>\n",
              "      <th>...</th>\n",
              "      <td>...</td>\n",
              "      <td>...</td>\n",
              "      <td>...</td>\n",
              "      <td>...</td>\n",
              "      <td>...</td>\n",
              "      <td>...</td>\n",
              "      <td>...</td>\n",
              "      <td>...</td>\n",
              "      <td>...</td>\n",
              "      <td>...</td>\n",
              "      <td>...</td>\n",
              "    </tr>\n",
              "    <tr>\n",
              "      <th>975</th>\n",
              "      <td>User 976</td>\n",
              "      <td>0.74</td>\n",
              "      <td>1.12</td>\n",
              "      <td>0.30</td>\n",
              "      <td>0.53</td>\n",
              "      <td>0.88</td>\n",
              "      <td>1.38</td>\n",
              "      <td>3.17</td>\n",
              "      <td>2.78</td>\n",
              "      <td>0.99</td>\n",
              "      <td>3.20</td>\n",
              "    </tr>\n",
              "    <tr>\n",
              "      <th>976</th>\n",
              "      <td>User 977</td>\n",
              "      <td>1.25</td>\n",
              "      <td>0.92</td>\n",
              "      <td>1.12</td>\n",
              "      <td>0.38</td>\n",
              "      <td>0.78</td>\n",
              "      <td>1.68</td>\n",
              "      <td>3.18</td>\n",
              "      <td>2.79</td>\n",
              "      <td>1.34</td>\n",
              "      <td>2.80</td>\n",
              "    </tr>\n",
              "    <tr>\n",
              "      <th>977</th>\n",
              "      <td>User 978</td>\n",
              "      <td>0.61</td>\n",
              "      <td>1.32</td>\n",
              "      <td>0.67</td>\n",
              "      <td>0.43</td>\n",
              "      <td>1.30</td>\n",
              "      <td>1.78</td>\n",
              "      <td>3.17</td>\n",
              "      <td>2.81</td>\n",
              "      <td>1.34</td>\n",
              "      <td>3.02</td>\n",
              "    </tr>\n",
              "    <tr>\n",
              "      <th>978</th>\n",
              "      <td>User 979</td>\n",
              "      <td>0.93</td>\n",
              "      <td>0.20</td>\n",
              "      <td>0.13</td>\n",
              "      <td>0.43</td>\n",
              "      <td>0.30</td>\n",
              "      <td>0.40</td>\n",
              "      <td>3.18</td>\n",
              "      <td>2.98</td>\n",
              "      <td>1.12</td>\n",
              "      <td>2.46</td>\n",
              "    </tr>\n",
              "    <tr>\n",
              "      <th>979</th>\n",
              "      <td>User 980</td>\n",
              "      <td>0.93</td>\n",
              "      <td>0.56</td>\n",
              "      <td>1.13</td>\n",
              "      <td>0.51</td>\n",
              "      <td>1.34</td>\n",
              "      <td>2.36</td>\n",
              "      <td>3.18</td>\n",
              "      <td>2.87</td>\n",
              "      <td>1.34</td>\n",
              "      <td>2.40</td>\n",
              "    </tr>\n",
              "  </tbody>\n",
              "</table>\n",
              "<p>980 rows × 11 columns</p>\n",
              "</div>\n",
              "      <button class=\"colab-df-convert\" onclick=\"convertToInteractive('df-ec799777-7323-47a9-acde-cbb6020c6491')\"\n",
              "              title=\"Convert this dataframe to an interactive table.\"\n",
              "              style=\"display:none;\">\n",
              "        \n",
              "  <svg xmlns=\"http://www.w3.org/2000/svg\" height=\"24px\"viewBox=\"0 0 24 24\"\n",
              "       width=\"24px\">\n",
              "    <path d=\"M0 0h24v24H0V0z\" fill=\"none\"/>\n",
              "    <path d=\"M18.56 5.44l.94 2.06.94-2.06 2.06-.94-2.06-.94-.94-2.06-.94 2.06-2.06.94zm-11 1L8.5 8.5l.94-2.06 2.06-.94-2.06-.94L8.5 2.5l-.94 2.06-2.06.94zm10 10l.94 2.06.94-2.06 2.06-.94-2.06-.94-.94-2.06-.94 2.06-2.06.94z\"/><path d=\"M17.41 7.96l-1.37-1.37c-.4-.4-.92-.59-1.43-.59-.52 0-1.04.2-1.43.59L10.3 9.45l-7.72 7.72c-.78.78-.78 2.05 0 2.83L4 21.41c.39.39.9.59 1.41.59.51 0 1.02-.2 1.41-.59l7.78-7.78 2.81-2.81c.8-.78.8-2.07 0-2.86zM5.41 20L4 18.59l7.72-7.72 1.47 1.35L5.41 20z\"/>\n",
              "  </svg>\n",
              "      </button>\n",
              "      \n",
              "  <style>\n",
              "    .colab-df-container {\n",
              "      display:flex;\n",
              "      flex-wrap:wrap;\n",
              "      gap: 12px;\n",
              "    }\n",
              "\n",
              "    .colab-df-convert {\n",
              "      background-color: #E8F0FE;\n",
              "      border: none;\n",
              "      border-radius: 50%;\n",
              "      cursor: pointer;\n",
              "      display: none;\n",
              "      fill: #1967D2;\n",
              "      height: 32px;\n",
              "      padding: 0 0 0 0;\n",
              "      width: 32px;\n",
              "    }\n",
              "\n",
              "    .colab-df-convert:hover {\n",
              "      background-color: #E2EBFA;\n",
              "      box-shadow: 0px 1px 2px rgba(60, 64, 67, 0.3), 0px 1px 3px 1px rgba(60, 64, 67, 0.15);\n",
              "      fill: #174EA6;\n",
              "    }\n",
              "\n",
              "    [theme=dark] .colab-df-convert {\n",
              "      background-color: #3B4455;\n",
              "      fill: #D2E3FC;\n",
              "    }\n",
              "\n",
              "    [theme=dark] .colab-df-convert:hover {\n",
              "      background-color: #434B5C;\n",
              "      box-shadow: 0px 1px 3px 1px rgba(0, 0, 0, 0.15);\n",
              "      filter: drop-shadow(0px 1px 2px rgba(0, 0, 0, 0.3));\n",
              "      fill: #FFFFFF;\n",
              "    }\n",
              "  </style>\n",
              "\n",
              "      <script>\n",
              "        const buttonEl =\n",
              "          document.querySelector('#df-ec799777-7323-47a9-acde-cbb6020c6491 button.colab-df-convert');\n",
              "        buttonEl.style.display =\n",
              "          google.colab.kernel.accessAllowed ? 'block' : 'none';\n",
              "\n",
              "        async function convertToInteractive(key) {\n",
              "          const element = document.querySelector('#df-ec799777-7323-47a9-acde-cbb6020c6491');\n",
              "          const dataTable =\n",
              "            await google.colab.kernel.invokeFunction('convertToInteractive',\n",
              "                                                     [key], {});\n",
              "          if (!dataTable) return;\n",
              "\n",
              "          const docLinkHtml = 'Like what you see? Visit the ' +\n",
              "            '<a target=\"_blank\" href=https://colab.research.google.com/notebooks/data_table.ipynb>data table notebook</a>'\n",
              "            + ' to learn more about interactive tables.';\n",
              "          element.innerHTML = '';\n",
              "          dataTable['output_type'] = 'display_data';\n",
              "          await google.colab.output.renderOutput(dataTable, element);\n",
              "          const docLink = document.createElement('div');\n",
              "          docLink.innerHTML = docLinkHtml;\n",
              "          element.appendChild(docLink);\n",
              "        }\n",
              "      </script>\n",
              "    </div>\n",
              "  </div>\n",
              "  "
            ]
          },
          "metadata": {},
          "execution_count": 3
        }
      ]
    },
    {
      "cell_type": "code",
      "source": [
        "# Print the summary statistics of the dataframe\n",
        "print(review.describe())"
      ],
      "metadata": {
        "colab": {
          "base_uri": "https://localhost:8080/"
        },
        "id": "w7LipsdZXE3j",
        "outputId": "c6848078-b253-49f3-947b-e3482bba7bfa"
      },
      "execution_count": 4,
      "outputs": [
        {
          "output_type": "stream",
          "name": "stdout",
          "text": [
            "       Art Galleries  Dance Clubs  Juice Bars  Restaurants     Museums  \\\n",
            "count     980.000000   980.000000  980.000000   980.000000  980.000000   \n",
            "mean        0.893194     1.352612    1.013306     0.532500    0.939735   \n",
            "std         0.326912     0.478280    0.788607     0.279731    0.437430   \n",
            "min         0.340000     0.000000    0.130000     0.150000    0.060000   \n",
            "25%         0.670000     1.080000    0.270000     0.410000    0.640000   \n",
            "50%         0.830000     1.280000    0.820000     0.500000    0.900000   \n",
            "75%         1.020000     1.560000    1.572500     0.580000    1.200000   \n",
            "max         3.220000     3.640000    3.620000     3.440000    3.300000   \n",
            "\n",
            "          Resorts  Picnic Spots     Beaches    Theaters  Religious Institution  \n",
            "count  980.000000    980.000000  980.000000  980.000000             980.000000  \n",
            "mean     1.842898      3.180939    2.835061    1.569439               2.799224  \n",
            "std      0.539538      0.007824    0.137505    0.364629               0.321380  \n",
            "min      0.140000      3.160000    2.420000    0.740000               2.140000  \n",
            "25%      1.460000      3.180000    2.740000    1.310000               2.540000  \n",
            "50%      1.800000      3.180000    2.820000    1.540000               2.780000  \n",
            "75%      2.200000      3.180000    2.910000    1.760000               3.040000  \n",
            "max      3.760000      3.210000    3.390000    3.170000               3.660000  \n"
          ]
        }
      ]
    },
    {
      "cell_type": "code",
      "source": [
        "# Calculate the mean of a specific column\n",
        "import numpy as np\n",
        "print(np.mean(review['Resorts']))\n",
        "print(np.mean(review['Picnic Spots']))\n",
        "print(np.mean(review['Beaches']))\n",
        "print(np.mean(review['Theaters']))"
      ],
      "metadata": {
        "colab": {
          "base_uri": "https://localhost:8080/"
        },
        "id": "D3aLt5QsXVAd",
        "outputId": "e2cb16f4-c3f5-4cd3-97f3-d07ad6de3f17"
      },
      "execution_count": 8,
      "outputs": [
        {
          "output_type": "stream",
          "name": "stdout",
          "text": [
            "1.8428979591836734\n",
            "3.1809387755102043\n",
            "2.835061224489796\n",
            "1.5694387755102042\n"
          ]
        }
      ]
    },
    {
      "cell_type": "code",
      "source": [
        "# Calculate the median of a specific column\n",
        "import numpy as np\n",
        "print(np.median(review['Resorts']))\n",
        "print(np.median(review['Picnic Spots']))\n",
        "print(np.median(review['Beaches']))\n",
        "print(np.median(review['Theaters']))"
      ],
      "metadata": {
        "colab": {
          "base_uri": "https://localhost:8080/"
        },
        "id": "sgtuDPe8YX3z",
        "outputId": "ad4f5a13-cbe6-4a12-9fe0-bad65e265e9e"
      },
      "execution_count": 10,
      "outputs": [
        {
          "output_type": "stream",
          "name": "stdout",
          "text": [
            "1.8\n",
            "3.18\n",
            "2.82\n",
            "1.54\n"
          ]
        }
      ]
    },
    {
      "cell_type": "code",
      "source": [
        "# Calculate the mode of a specific column\n",
        "import numpy as np\n",
        "print(review['Resorts'].mode()[0])\n",
        "print(review['Picnic Spots'].mode()[0])\n",
        "print(review['Beaches'].mode()[0])\n",
        "print(review['Theaters'].mode()[0])"
      ],
      "metadata": {
        "colab": {
          "base_uri": "https://localhost:8080/"
        },
        "id": "_QWV3aP4YrpY",
        "outputId": "95890bf8-857c-4431-f1fb-a116ba56ae9c"
      },
      "execution_count": 12,
      "outputs": [
        {
          "output_type": "stream",
          "name": "stdout",
          "text": [
            "1.7\n",
            "3.18\n",
            "2.86\n",
            "1.41\n"
          ]
        }
      ]
    },
    {
      "cell_type": "code",
      "source": [
        "# Calculate the standard deviation of a specific column\n",
        "print(np.std(review['Resorts']))\n",
        "print(np.std(review['Picnic Spots']))\n",
        "print(np.std(review['Beaches']))\n",
        "print(np.std(review['Theaters']))"
      ],
      "metadata": {
        "colab": {
          "base_uri": "https://localhost:8080/"
        },
        "id": "wGInpOSgZjHi",
        "outputId": "e40c07e8-fc8c-413f-9cd1-9adaed477a3d"
      },
      "execution_count": 13,
      "outputs": [
        {
          "output_type": "stream",
          "name": "stdout",
          "text": [
            "0.5392626956259762\n",
            "0.007820455029470595\n",
            "0.1374353143821374\n",
            "0.364443371103602\n"
          ]
        }
      ]
    },
    {
      "cell_type": "markdown",
      "source": [
        " **b. Show Relationships between various attrtibutes**"
      ],
      "metadata": {
        "id": "mQsJWug2Z7ZJ"
      }
    },
    {
      "cell_type": "code",
      "source": [
        "review.head()"
      ],
      "metadata": {
        "colab": {
          "base_uri": "https://localhost:8080/",
          "height": 206
        },
        "id": "f7fywzFMaIDw",
        "outputId": "ca634171-e25c-4247-ef5c-625c1c0c17b4"
      },
      "execution_count": 14,
      "outputs": [
        {
          "output_type": "execute_result",
          "data": {
            "text/plain": [
              "  User ID  Art Galleries  Dance Clubs  Juice Bars  Restaurants  Museums  \\\n",
              "0  User 1           0.93          1.8        2.29         0.62     0.80   \n",
              "1  User 2           1.02          2.2        2.66         0.64     1.42   \n",
              "2  User 3           1.22          0.8        0.54         0.53     0.24   \n",
              "3  User 4           0.45          1.8        0.29         0.57     0.46   \n",
              "4  User 5           0.51          1.2        1.18         0.57     1.54   \n",
              "\n",
              "   Resorts  Picnic Spots  Beaches  Theaters  Religious Institution  \n",
              "0     2.42          3.19     2.79      1.82                   2.42  \n",
              "1     3.18          3.21     2.63      1.86                   2.32  \n",
              "2     1.54          3.18     2.80      1.31                   2.50  \n",
              "3     1.52          3.18     2.96      1.57                   2.86  \n",
              "4     2.02          3.18     2.78      1.18                   2.54  "
            ],
            "text/html": [
              "\n",
              "  <div id=\"df-48a323ee-84f2-4e81-977f-d227fa035742\">\n",
              "    <div class=\"colab-df-container\">\n",
              "      <div>\n",
              "<style scoped>\n",
              "    .dataframe tbody tr th:only-of-type {\n",
              "        vertical-align: middle;\n",
              "    }\n",
              "\n",
              "    .dataframe tbody tr th {\n",
              "        vertical-align: top;\n",
              "    }\n",
              "\n",
              "    .dataframe thead th {\n",
              "        text-align: right;\n",
              "    }\n",
              "</style>\n",
              "<table border=\"1\" class=\"dataframe\">\n",
              "  <thead>\n",
              "    <tr style=\"text-align: right;\">\n",
              "      <th></th>\n",
              "      <th>User ID</th>\n",
              "      <th>Art Galleries</th>\n",
              "      <th>Dance Clubs</th>\n",
              "      <th>Juice Bars</th>\n",
              "      <th>Restaurants</th>\n",
              "      <th>Museums</th>\n",
              "      <th>Resorts</th>\n",
              "      <th>Picnic Spots</th>\n",
              "      <th>Beaches</th>\n",
              "      <th>Theaters</th>\n",
              "      <th>Religious Institution</th>\n",
              "    </tr>\n",
              "  </thead>\n",
              "  <tbody>\n",
              "    <tr>\n",
              "      <th>0</th>\n",
              "      <td>User 1</td>\n",
              "      <td>0.93</td>\n",
              "      <td>1.8</td>\n",
              "      <td>2.29</td>\n",
              "      <td>0.62</td>\n",
              "      <td>0.80</td>\n",
              "      <td>2.42</td>\n",
              "      <td>3.19</td>\n",
              "      <td>2.79</td>\n",
              "      <td>1.82</td>\n",
              "      <td>2.42</td>\n",
              "    </tr>\n",
              "    <tr>\n",
              "      <th>1</th>\n",
              "      <td>User 2</td>\n",
              "      <td>1.02</td>\n",
              "      <td>2.2</td>\n",
              "      <td>2.66</td>\n",
              "      <td>0.64</td>\n",
              "      <td>1.42</td>\n",
              "      <td>3.18</td>\n",
              "      <td>3.21</td>\n",
              "      <td>2.63</td>\n",
              "      <td>1.86</td>\n",
              "      <td>2.32</td>\n",
              "    </tr>\n",
              "    <tr>\n",
              "      <th>2</th>\n",
              "      <td>User 3</td>\n",
              "      <td>1.22</td>\n",
              "      <td>0.8</td>\n",
              "      <td>0.54</td>\n",
              "      <td>0.53</td>\n",
              "      <td>0.24</td>\n",
              "      <td>1.54</td>\n",
              "      <td>3.18</td>\n",
              "      <td>2.80</td>\n",
              "      <td>1.31</td>\n",
              "      <td>2.50</td>\n",
              "    </tr>\n",
              "    <tr>\n",
              "      <th>3</th>\n",
              "      <td>User 4</td>\n",
              "      <td>0.45</td>\n",
              "      <td>1.8</td>\n",
              "      <td>0.29</td>\n",
              "      <td>0.57</td>\n",
              "      <td>0.46</td>\n",
              "      <td>1.52</td>\n",
              "      <td>3.18</td>\n",
              "      <td>2.96</td>\n",
              "      <td>1.57</td>\n",
              "      <td>2.86</td>\n",
              "    </tr>\n",
              "    <tr>\n",
              "      <th>4</th>\n",
              "      <td>User 5</td>\n",
              "      <td>0.51</td>\n",
              "      <td>1.2</td>\n",
              "      <td>1.18</td>\n",
              "      <td>0.57</td>\n",
              "      <td>1.54</td>\n",
              "      <td>2.02</td>\n",
              "      <td>3.18</td>\n",
              "      <td>2.78</td>\n",
              "      <td>1.18</td>\n",
              "      <td>2.54</td>\n",
              "    </tr>\n",
              "  </tbody>\n",
              "</table>\n",
              "</div>\n",
              "      <button class=\"colab-df-convert\" onclick=\"convertToInteractive('df-48a323ee-84f2-4e81-977f-d227fa035742')\"\n",
              "              title=\"Convert this dataframe to an interactive table.\"\n",
              "              style=\"display:none;\">\n",
              "        \n",
              "  <svg xmlns=\"http://www.w3.org/2000/svg\" height=\"24px\"viewBox=\"0 0 24 24\"\n",
              "       width=\"24px\">\n",
              "    <path d=\"M0 0h24v24H0V0z\" fill=\"none\"/>\n",
              "    <path d=\"M18.56 5.44l.94 2.06.94-2.06 2.06-.94-2.06-.94-.94-2.06-.94 2.06-2.06.94zm-11 1L8.5 8.5l.94-2.06 2.06-.94-2.06-.94L8.5 2.5l-.94 2.06-2.06.94zm10 10l.94 2.06.94-2.06 2.06-.94-2.06-.94-.94-2.06-.94 2.06-2.06.94z\"/><path d=\"M17.41 7.96l-1.37-1.37c-.4-.4-.92-.59-1.43-.59-.52 0-1.04.2-1.43.59L10.3 9.45l-7.72 7.72c-.78.78-.78 2.05 0 2.83L4 21.41c.39.39.9.59 1.41.59.51 0 1.02-.2 1.41-.59l7.78-7.78 2.81-2.81c.8-.78.8-2.07 0-2.86zM5.41 20L4 18.59l7.72-7.72 1.47 1.35L5.41 20z\"/>\n",
              "  </svg>\n",
              "      </button>\n",
              "      \n",
              "  <style>\n",
              "    .colab-df-container {\n",
              "      display:flex;\n",
              "      flex-wrap:wrap;\n",
              "      gap: 12px;\n",
              "    }\n",
              "\n",
              "    .colab-df-convert {\n",
              "      background-color: #E8F0FE;\n",
              "      border: none;\n",
              "      border-radius: 50%;\n",
              "      cursor: pointer;\n",
              "      display: none;\n",
              "      fill: #1967D2;\n",
              "      height: 32px;\n",
              "      padding: 0 0 0 0;\n",
              "      width: 32px;\n",
              "    }\n",
              "\n",
              "    .colab-df-convert:hover {\n",
              "      background-color: #E2EBFA;\n",
              "      box-shadow: 0px 1px 2px rgba(60, 64, 67, 0.3), 0px 1px 3px 1px rgba(60, 64, 67, 0.15);\n",
              "      fill: #174EA6;\n",
              "    }\n",
              "\n",
              "    [theme=dark] .colab-df-convert {\n",
              "      background-color: #3B4455;\n",
              "      fill: #D2E3FC;\n",
              "    }\n",
              "\n",
              "    [theme=dark] .colab-df-convert:hover {\n",
              "      background-color: #434B5C;\n",
              "      box-shadow: 0px 1px 3px 1px rgba(0, 0, 0, 0.15);\n",
              "      filter: drop-shadow(0px 1px 2px rgba(0, 0, 0, 0.3));\n",
              "      fill: #FFFFFF;\n",
              "    }\n",
              "  </style>\n",
              "\n",
              "      <script>\n",
              "        const buttonEl =\n",
              "          document.querySelector('#df-48a323ee-84f2-4e81-977f-d227fa035742 button.colab-df-convert');\n",
              "        buttonEl.style.display =\n",
              "          google.colab.kernel.accessAllowed ? 'block' : 'none';\n",
              "\n",
              "        async function convertToInteractive(key) {\n",
              "          const element = document.querySelector('#df-48a323ee-84f2-4e81-977f-d227fa035742');\n",
              "          const dataTable =\n",
              "            await google.colab.kernel.invokeFunction('convertToInteractive',\n",
              "                                                     [key], {});\n",
              "          if (!dataTable) return;\n",
              "\n",
              "          const docLinkHtml = 'Like what you see? Visit the ' +\n",
              "            '<a target=\"_blank\" href=https://colab.research.google.com/notebooks/data_table.ipynb>data table notebook</a>'\n",
              "            + ' to learn more about interactive tables.';\n",
              "          element.innerHTML = '';\n",
              "          dataTable['output_type'] = 'display_data';\n",
              "          await google.colab.output.renderOutput(dataTable, element);\n",
              "          const docLink = document.createElement('div');\n",
              "          docLink.innerHTML = docLinkHtml;\n",
              "          element.appendChild(docLink);\n",
              "        }\n",
              "      </script>\n",
              "    </div>\n",
              "  </div>\n",
              "  "
            ]
          },
          "metadata": {},
          "execution_count": 14
        }
      ]
    },
    {
      "cell_type": "code",
      "source": [
        "import matplotlib.pyplot as plt\n",
        "\n",
        "x = review['Resorts']\n",
        "y = review['User ID']\n",
        "\n",
        "plt.scatter(x, y)\n",
        "plt.title('Scatter Plot for review')\n",
        "plt.xlabel('Resorts')\n",
        "plt.ylabel('User ID)')\n",
        "plt.show()"
      ],
      "metadata": {
        "colab": {
          "base_uri": "https://localhost:8080/",
          "height": 472
        },
        "id": "PNkBmmlLaP4G",
        "outputId": "92794eee-e0fe-4d63-ce00-ad75e9715ee6"
      },
      "execution_count": 17,
      "outputs": [
        {
          "output_type": "display_data",
          "data": {
            "text/plain": [
              "<Figure size 640x480 with 1 Axes>"
            ],
            "image/png": "[encoded data removed]"
          },
          "metadata": {}
        }
      ]
    },
    {
      "cell_type": "code",
      "source": [
        "import matplotlib.pyplot as plt\n",
        "\n",
        "x = review['Dance Clubs']\n",
        "y = review['User ID']\n",
        "\n",
        "plt.plot(x, y)\n",
        "plt.title('Line Plot for review')\n",
        "plt.xlabel('Dance Clubs')\n",
        "plt.ylabel('User ID')\n",
        "plt.show()\n"
      ],
      "metadata": {
        "colab": {
          "base_uri": "https://localhost:8080/",
          "height": 472
        },
        "id": "kZIrMJFUbh9F",
        "outputId": "ea7ffc48-1a15-496f-bd57-fa71c26d6940"
      },
      "execution_count": 18,
      "outputs": [
        {
          "output_type": "display_data",
          "data": {
            "text/plain": [
              "<Figure size 640x480 with 1 Axes>"
            ],
            "image/png": "[encoded data removed]"
          },
          "metadata": {}
        }
      ]
    },
    {
      "cell_type": "markdown",
      "source": [
        "**c. Propose 3-4 Analytical questions about the data and show answers to them**"
      ],
      "metadata": {
        "id": "oX2goor1cAJ-"
      }
    },
    {
      "cell_type": "markdown",
      "source": [
        "**1.** How many User are there?\n",
        "\n",
        "**Ans.** There are total 980 User.\n",
        "\n",
        "**2.** Which place have most good review ?\n",
        "\n",
        "**Ans.** Resorts have the most good review.\n",
        "\n",
        "**3.** Which place have minimum number of review  ?\n",
        "\n",
        "**Ans**Theaters have Minimum number of review.\n",
        "\n",
        "**4** What is Max And Min feedback rating is give to Religious Institution ?\n",
        "\n",
        "**Ans.** Religious Institution have got Max-3.660000 and Min-2.140000 number of       feedbacks "
      ],
      "metadata": {
        "id": "6Q5CVC2VcNJw"
      }
    },
    {
      "cell_type": "markdown",
      "source": [
        "**d. Check if all attributes are properly formed find missing values, outliers etc....**"
      ],
      "metadata": {
        "id": "FuNMGZ0uitBT"
      }
    },
    {
      "cell_type": "code",
      "source": [
        "# Finding missing values using isnull() function in pandas library\n",
        "print(review.isnull().sum())"
      ],
      "metadata": {
        "colab": {
          "base_uri": "https://localhost:8080/"
        },
        "id": "rgqYxklpix3y",
        "outputId": "6055f81a-eb2a-4c2e-cc37-57a8f693b38d"
      },
      "execution_count": 19,
      "outputs": [
        {
          "output_type": "stream",
          "name": "stdout",
          "text": [
            "User ID                  0\n",
            "Art Galleries            0\n",
            "Dance Clubs              0\n",
            "Juice Bars               0\n",
            "Restaurants              0\n",
            "Museums                  0\n",
            "Resorts                  0\n",
            "Picnic Spots             0\n",
            "Beaches                  0\n",
            "Theaters                 0\n",
            "Religious Institution    0\n",
            "dtype: int64\n"
          ]
        }
      ]
    },
    {
      "cell_type": "markdown",
      "source": [
        "\n",
        "\n",
        "```\n",
        "# This is formatted as code\n",
        "```\n",
        "\n",
        "**Detection of Outliers**"
      ],
      "metadata": {
        "id": "IbGQhcRfjG5d"
      }
    },
    {
      "cell_type": "code",
      "source": [
        "#Finding outliers using boxplot\n",
        "import seaborn as sns\n",
        "import pandas as pd\n",
        "sns.boxplot(x=review['Theaters'])"
      ],
      "metadata": {
        "colab": {
          "base_uri": "https://localhost:8080/",
          "height": 466
        },
        "id": "pRrkCrJ_jOtG",
        "outputId": "d2dba6f3-15f4-4aba-b1b2-6c39fcf36d37"
      },
      "execution_count": 21,
      "outputs": [
        {
          "output_type": "execute_result",
          "data": {
            "text/plain": [
              "<Axes: xlabel='Theaters'>"
            ]
          },
          "metadata": {},
          "execution_count": 21
        },
        {
          "output_type": "display_data",
          "data": {
            "text/plain": [
              "<Figure size 640x480 with 1 Axes>"
            ],
            "image/png": "[encoded data removed]"
          },
          "metadata": {}
        }
      ]
    },
    {
      "cell_type": "code",
      "source": [
        "# Position of the Outlier\n",
        "import numpy as np\n",
        "print(np.where(review['Theaters']>10))\n"
      ],
      "metadata": {
        "colab": {
          "base_uri": "https://localhost:8080/"
        },
        "id": "2cuPlQxajpnr",
        "outputId": "a56c6f59-da2e-425a-8a96-e2ae5c6d7bf9"
      },
      "execution_count": 22,
      "outputs": [
        {
          "output_type": "stream",
          "name": "stdout",
          "text": [
            "(array([], dtype=int64),)\n"
          ]
        }
      ]
    },
    {
      "cell_type": "markdown",
      "source": [
        "**e. Find what kind of ML Problem you can define over this data and define it. Propose 2 distinct ML Algorithm based solutions.**"
      ],
      "metadata": {
        "id": "kJOXUCMIkUkx"
      }
    },
    {
      "cell_type": "markdown",
      "source": [
        "**Ans.**Reviews on destinations in 10 categories mentioned across East Asia are considered. Each traveler rating is mapped as Excellent (4), Very Good (3), Average (2), Poor (1), and Terrible (0) and average rating is used against each category per user.\n",
        "\n",
        "**Proposed Solutions:**\n",
        "\n",
        "**Linear Regression** - In this approach, we can utilize linear regression to train a model for review on destinstion mentioned from the traveller. The linear regression model will learn the traveler rating is mapped as Excellent (4), Very Good (3), Average (2), Poor (1), and Terrible (0) and average rating is used against each category per user.\n",
        "\n",
        "**Random Forest Regression** - To build a more accurate predictive model, we can use the Random Forest algorithm, which is an ensemble learning technique that combines multiple decision trees with bootstrap aggregating. In Random Forest Regression, multiple decision trees will split the data into smaller subsets, and each split will generate a prediction. The final prediction will be the average of all predicted values, providing more accurate results than the above linear regression model.\n"
      ],
      "metadata": {
        "id": "dxrCrvg6kYQa"
      }
    }
  ]
}